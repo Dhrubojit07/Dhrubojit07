{
  "nbformat": 4,
  "nbformat_minor": 0,
  "metadata": {
    "colab": {
      "provenance": [],
      "authorship_tag": "ABX9TyNufraEggT5YHpEARhI/VdN",
      "include_colab_link": true
    },
    "kernelspec": {
      "name": "python3",
      "display_name": "Python 3"
    },
    "language_info": {
      "name": "python"
    }
  },
  "cells": [
    {
      "cell_type": "markdown",
      "metadata": {
        "id": "view-in-github",
        "colab_type": "text"
      },
      "source": [
        "<a href=\"https://colab.research.google.com/github/Dhrubojit07/Dhrubojit07/blob/main/Dhrubojit.ipynb\" target=\"_parent\"><img src=\"https://colab.research.google.com/assets/colab-badge.svg\" alt=\"Open In Colab\"/></a>"
      ]
    },
    {
      "cell_type": "code",
      "source": [
        "import pandas as pd\n",
        "import numpy as np"
      ],
      "metadata": {
        "id": "BXRUk9sqUUPH"
      },
      "execution_count": 3,
      "outputs": []
    },
    {
      "cell_type": "code",
      "source": [
        "from google.colab import files\n",
        "uploaded = files.upload()"
      ],
      "metadata": {
        "colab": {
          "base_uri": "https://localhost:8080/",
          "height": 73
        },
        "id": "RcnmB9aAVK0E",
        "outputId": "0b43ef73-2e33-425e-e01d-cc02ddcfb721"
      },
      "execution_count": 6,
      "outputs": [
        {
          "output_type": "display_data",
          "data": {
            "text/plain": [
              "<IPython.core.display.HTML object>"
            ],
            "text/html": [
              "\n",
              "     <input type=\"file\" id=\"files-65c954be-dd40-4da3-be30-17bc86638a49\" name=\"files[]\" multiple disabled\n",
              "        style=\"border:none\" />\n",
              "     <output id=\"result-65c954be-dd40-4da3-be30-17bc86638a49\">\n",
              "      Upload widget is only available when the cell has been executed in the\n",
              "      current browser session. Please rerun this cell to enable.\n",
              "      </output>\n",
              "      <script>// Copyright 2017 Google LLC\n",
              "//\n",
              "// Licensed under the Apache License, Version 2.0 (the \"License\");\n",
              "// you may not use this file except in compliance with the License.\n",
              "// You may obtain a copy of the License at\n",
              "//\n",
              "//      http://www.apache.org/licenses/LICENSE-2.0\n",
              "//\n",
              "// Unless required by applicable law or agreed to in writing, software\n",
              "// distributed under the License is distributed on an \"AS IS\" BASIS,\n",
              "// WITHOUT WARRANTIES OR CONDITIONS OF ANY KIND, either express or implied.\n",
              "// See the License for the specific language governing permissions and\n",
              "// limitations under the License.\n",
              "\n",
              "/**\n",
              " * @fileoverview Helpers for google.colab Python module.\n",
              " */\n",
              "(function(scope) {\n",
              "function span(text, styleAttributes = {}) {\n",
              "  const element = document.createElement('span');\n",
              "  element.textContent = text;\n",
              "  for (const key of Object.keys(styleAttributes)) {\n",
              "    element.style[key] = styleAttributes[key];\n",
              "  }\n",
              "  return element;\n",
              "}\n",
              "\n",
              "// Max number of bytes which will be uploaded at a time.\n",
              "const MAX_PAYLOAD_SIZE = 100 * 1024;\n",
              "\n",
              "function _uploadFiles(inputId, outputId) {\n",
              "  const steps = uploadFilesStep(inputId, outputId);\n",
              "  const outputElement = document.getElementById(outputId);\n",
              "  // Cache steps on the outputElement to make it available for the next call\n",
              "  // to uploadFilesContinue from Python.\n",
              "  outputElement.steps = steps;\n",
              "\n",
              "  return _uploadFilesContinue(outputId);\n",
              "}\n",
              "\n",
              "// This is roughly an async generator (not supported in the browser yet),\n",
              "// where there are multiple asynchronous steps and the Python side is going\n",
              "// to poll for completion of each step.\n",
              "// This uses a Promise to block the python side on completion of each step,\n",
              "// then passes the result of the previous step as the input to the next step.\n",
              "function _uploadFilesContinue(outputId) {\n",
              "  const outputElement = document.getElementById(outputId);\n",
              "  const steps = outputElement.steps;\n",
              "\n",
              "  const next = steps.next(outputElement.lastPromiseValue);\n",
              "  return Promise.resolve(next.value.promise).then((value) => {\n",
              "    // Cache the last promise value to make it available to the next\n",
              "    // step of the generator.\n",
              "    outputElement.lastPromiseValue = value;\n",
              "    return next.value.response;\n",
              "  });\n",
              "}\n",
              "\n",
              "/**\n",
              " * Generator function which is called between each async step of the upload\n",
              " * process.\n",
              " * @param {string} inputId Element ID of the input file picker element.\n",
              " * @param {string} outputId Element ID of the output display.\n",
              " * @return {!Iterable<!Object>} Iterable of next steps.\n",
              " */\n",
              "function* uploadFilesStep(inputId, outputId) {\n",
              "  const inputElement = document.getElementById(inputId);\n",
              "  inputElement.disabled = false;\n",
              "\n",
              "  const outputElement = document.getElementById(outputId);\n",
              "  outputElement.innerHTML = '';\n",
              "\n",
              "  const pickedPromise = new Promise((resolve) => {\n",
              "    inputElement.addEventListener('change', (e) => {\n",
              "      resolve(e.target.files);\n",
              "    });\n",
              "  });\n",
              "\n",
              "  const cancel = document.createElement('button');\n",
              "  inputElement.parentElement.appendChild(cancel);\n",
              "  cancel.textContent = 'Cancel upload';\n",
              "  const cancelPromise = new Promise((resolve) => {\n",
              "    cancel.onclick = () => {\n",
              "      resolve(null);\n",
              "    };\n",
              "  });\n",
              "\n",
              "  // Wait for the user to pick the files.\n",
              "  const files = yield {\n",
              "    promise: Promise.race([pickedPromise, cancelPromise]),\n",
              "    response: {\n",
              "      action: 'starting',\n",
              "    }\n",
              "  };\n",
              "\n",
              "  cancel.remove();\n",
              "\n",
              "  // Disable the input element since further picks are not allowed.\n",
              "  inputElement.disabled = true;\n",
              "\n",
              "  if (!files) {\n",
              "    return {\n",
              "      response: {\n",
              "        action: 'complete',\n",
              "      }\n",
              "    };\n",
              "  }\n",
              "\n",
              "  for (const file of files) {\n",
              "    const li = document.createElement('li');\n",
              "    li.append(span(file.name, {fontWeight: 'bold'}));\n",
              "    li.append(span(\n",
              "        `(${file.type || 'n/a'}) - ${file.size} bytes, ` +\n",
              "        `last modified: ${\n",
              "            file.lastModifiedDate ? file.lastModifiedDate.toLocaleDateString() :\n",
              "                                    'n/a'} - `));\n",
              "    const percent = span('0% done');\n",
              "    li.appendChild(percent);\n",
              "\n",
              "    outputElement.appendChild(li);\n",
              "\n",
              "    const fileDataPromise = new Promise((resolve) => {\n",
              "      const reader = new FileReader();\n",
              "      reader.onload = (e) => {\n",
              "        resolve(e.target.result);\n",
              "      };\n",
              "      reader.readAsArrayBuffer(file);\n",
              "    });\n",
              "    // Wait for the data to be ready.\n",
              "    let fileData = yield {\n",
              "      promise: fileDataPromise,\n",
              "      response: {\n",
              "        action: 'continue',\n",
              "      }\n",
              "    };\n",
              "\n",
              "    // Use a chunked sending to avoid message size limits. See b/62115660.\n",
              "    let position = 0;\n",
              "    do {\n",
              "      const length = Math.min(fileData.byteLength - position, MAX_PAYLOAD_SIZE);\n",
              "      const chunk = new Uint8Array(fileData, position, length);\n",
              "      position += length;\n",
              "\n",
              "      const base64 = btoa(String.fromCharCode.apply(null, chunk));\n",
              "      yield {\n",
              "        response: {\n",
              "          action: 'append',\n",
              "          file: file.name,\n",
              "          data: base64,\n",
              "        },\n",
              "      };\n",
              "\n",
              "      let percentDone = fileData.byteLength === 0 ?\n",
              "          100 :\n",
              "          Math.round((position / fileData.byteLength) * 100);\n",
              "      percent.textContent = `${percentDone}% done`;\n",
              "\n",
              "    } while (position < fileData.byteLength);\n",
              "  }\n",
              "\n",
              "  // All done.\n",
              "  yield {\n",
              "    response: {\n",
              "      action: 'complete',\n",
              "    }\n",
              "  };\n",
              "}\n",
              "\n",
              "scope.google = scope.google || {};\n",
              "scope.google.colab = scope.google.colab || {};\n",
              "scope.google.colab._files = {\n",
              "  _uploadFiles,\n",
              "  _uploadFilesContinue,\n",
              "};\n",
              "})(self);\n",
              "</script> "
            ]
          },
          "metadata": {}
        },
        {
          "output_type": "stream",
          "name": "stdout",
          "text": [
            "Saving Student.csv to Student (3).csv\n"
          ]
        }
      ]
    },
    {
      "cell_type": "code",
      "source": [
        "df = pd.read_csv('Student.csv')\n",
        "print(df)"
      ],
      "metadata": {
        "colab": {
          "base_uri": "https://localhost:8080/"
        },
        "id": "VtZOvb5WVWK1",
        "outputId": "9f4ff0d9-1ef5-4ef5-8e0d-372ac884c0d6"
      },
      "execution_count": 16,
      "outputs": [
        {
          "output_type": "stream",
          "name": "stdout",
          "text": [
            "     Regn No.   Age  Gender  Data Science  Networks  Architecture  Database\n",
            "0    12188341  21.0  female          67.0      82.0          37.0      25.0\n",
            "1    12130597  25.0  female          76.0      62.0          66.0      35.0\n",
            "2    12377867  17.0  female          86.0      71.0          73.0      58.0\n",
            "3    12337339  18.0  female          80.0      55.0          44.0      86.0\n",
            "4    12348602  24.0    male          65.0      52.0          63.0      40.0\n",
            "..        ...   ...     ...           ...       ...           ...       ...\n",
            "977  12100300  19.0    male          76.0      60.0          36.0      61.0\n",
            "978  12177505  18.0    male          76.0      77.0          73.0      20.0\n",
            "979  12308767  25.0    male          89.0      74.0          67.0      57.0\n",
            "980  12358915  20.0    male          77.0      71.0          68.0      90.0\n",
            "981  12236993  20.0  female          94.0      76.0          75.0      80.0\n",
            "\n",
            "[982 rows x 7 columns]\n"
          ]
        }
      ]
    },
    {
      "cell_type": "code",
      "source": [
        "print(\"Basic Information-\")\n",
        "print(df.info())"
      ],
      "metadata": {
        "colab": {
          "base_uri": "https://localhost:8080/"
        },
        "id": "gUeH9P10WnDh",
        "outputId": "98b8cabc-fd31-4b9c-c0a2-87e92e5619b3"
      },
      "execution_count": 19,
      "outputs": [
        {
          "output_type": "stream",
          "name": "stdout",
          "text": [
            "Basic Information-\n",
            "<class 'pandas.core.frame.DataFrame'>\n",
            "RangeIndex: 982 entries, 0 to 981\n",
            "Data columns (total 7 columns):\n",
            " #   Column        Non-Null Count  Dtype  \n",
            "---  ------        --------------  -----  \n",
            " 0   Regn No.      982 non-null    int64  \n",
            " 1   Age           977 non-null    float64\n",
            " 2   Gender        972 non-null    object \n",
            " 3   Data Science  974 non-null    float64\n",
            " 4   Networks      975 non-null    float64\n",
            " 5   Architecture  975 non-null    float64\n",
            " 6   Database      978 non-null    float64\n",
            "dtypes: float64(5), int64(1), object(1)\n",
            "memory usage: 53.8+ KB\n",
            "None\n"
          ]
        }
      ]
    },
    {
      "cell_type": "code",
      "source": [
        "print(\"Description-\")\n",
        "print(df.describe())"
      ],
      "metadata": {
        "colab": {
          "base_uri": "https://localhost:8080/"
        },
        "id": "xaGPmRdkXgUd",
        "outputId": "c6ef252a-1066-4ab0-eeb0-cb80a588656d"
      },
      "execution_count": 23,
      "outputs": [
        {
          "output_type": "stream",
          "name": "stdout",
          "text": [
            "Description-\n",
            "           Regn No.         Age  Data Science    Networks  Architecture  \\\n",
            "count  9.820000e+02  977.000000    974.000000  975.000000    975.000000   \n",
            "mean   1.224793e+07   21.096213     78.828542   67.408205     52.169231   \n",
            "std    8.586226e+04    2.573302     10.943204   10.329457     13.341398   \n",
            "min    1.210010e+07   17.000000     60.000000   50.000000     30.000000   \n",
            "25%    1.217462e+07   19.000000     69.000000   58.000000     40.000000   \n",
            "50%    1.224725e+07   21.000000     79.000000   68.000000     52.000000   \n",
            "75%    1.231948e+07   23.000000     88.000000   76.000000     64.000000   \n",
            "max    1.239958e+07   25.000000     98.000000   85.000000     75.000000   \n",
            "\n",
            "         Database  \n",
            "count  978.000000  \n",
            "mean    49.453988  \n",
            "std     23.478739  \n",
            "min     10.000000  \n",
            "25%     29.000000  \n",
            "50%     50.000000  \n",
            "75%     70.000000  \n",
            "max     90.000000  \n"
          ]
        }
      ]
    },
    {
      "cell_type": "code",
      "source": [
        "print(\"First thirty rows of the dataset:\")\n",
        "print(df.head(30))"
      ],
      "metadata": {
        "colab": {
          "base_uri": "https://localhost:8080/"
        },
        "id": "5Jf7IF5LYusE",
        "outputId": "40c4ae3a-97b6-496a-cbcc-9f81d0e76b79"
      },
      "execution_count": 25,
      "outputs": [
        {
          "output_type": "stream",
          "name": "stdout",
          "text": [
            "First thirty rows of the dataset:\n",
            "    Regn No.   Age  Gender  Data Science  Networks  Architecture  Database\n",
            "0   12188341  21.0  female          67.0      82.0          37.0      25.0\n",
            "1   12130597  25.0  female          76.0      62.0          66.0      35.0\n",
            "2   12377867  17.0  female          86.0      71.0          73.0      58.0\n",
            "3   12337339  18.0  female          80.0      55.0          44.0      86.0\n",
            "4   12348602  24.0    male          65.0      52.0          63.0      40.0\n",
            "5   12140355  20.0    male          91.0      60.0          46.0      73.0\n",
            "6   12333887  25.0  female          69.0      76.0          41.0      15.0\n",
            "7   12273795   NaN  female          70.0      62.0          39.0      62.0\n",
            "8   12295774  22.0    male          65.0      54.0          49.0      60.0\n",
            "9   12285294  18.0    male          89.0      83.0          55.0      52.0\n",
            "10  12139600  24.0  female          81.0      81.0          37.0      56.0\n",
            "11  12247942  25.0  female          74.0      67.0          53.0      33.0\n",
            "12  12266432  20.0    male          96.0      71.0          43.0      50.0\n",
            "13  12282227  19.0    male          87.0      75.0          56.0      12.0\n",
            "14  12126646  20.0  female          64.0      84.0          61.0      61.0\n",
            "15  12281155  17.0  female          74.0      51.0          51.0      35.0\n",
            "16  12210887  24.0    male          62.0      56.0          63.0      42.0\n",
            "17  12272291  25.0    male          70.0      72.0          39.0      16.0\n",
            "18  12237219  24.0  female          70.0      62.0          46.0      35.0\n",
            "19  12160961   NaN  female          98.0      74.0          40.0      28.0\n",
            "20  12103568  20.0    male          73.0      61.0          70.0      68.0\n",
            "21  12116940  21.0    male          83.0      52.0          33.0      73.0\n",
            "22  12193220  25.0  female          90.0      71.0          64.0      90.0\n",
            "23  12262795  17.0    male          75.0      71.0          34.0      78.0\n",
            "24  12328087  22.0  female          79.0      65.0          74.0      30.0\n",
            "25  12128983  17.0  female          87.0      73.0          59.0      53.0\n",
            "26  12301039  24.0    male          64.0      79.0          52.0      72.0\n",
            "27  12369371  22.0    male          89.0      79.0          40.0      46.0\n",
            "28  12194532  24.0  female          95.0      59.0          58.0      23.0\n",
            "29  12198457  25.0    male          79.0      52.0          41.0      22.0\n"
          ]
        }
      ]
    },
    {
      "cell_type": "code",
      "source": [
        "print(\"Last ten rows of the dataset:\")\n",
        "print(df.tail(10))"
      ],
      "metadata": {
        "colab": {
          "base_uri": "https://localhost:8080/"
        },
        "id": "WD3h2wA7Y2Po",
        "outputId": "28aedc36-ce5a-47a9-daf5-c95ca13a9254"
      },
      "execution_count": 26,
      "outputs": [
        {
          "output_type": "stream",
          "name": "stdout",
          "text": [
            "Last ten rows of the dataset:\n",
            "     Regn No.   Age  Gender  Data Science  Networks  Architecture  Database\n",
            "972  12328200  17.0    male          81.0      72.0          54.0      59.0\n",
            "973  12286179  17.0  female          96.0      52.0          42.0      37.0\n",
            "974  12313888  17.0    male           NaN      63.0          46.0      64.0\n",
            "975  12270318  23.0  female          82.0      64.0          34.0      29.0\n",
            "976  12208636  22.0  female          67.0      67.0          75.0      25.0\n",
            "977  12100300  19.0    male          76.0      60.0          36.0      61.0\n",
            "978  12177505  18.0    male          76.0      77.0          73.0      20.0\n",
            "979  12308767  25.0    male          89.0      74.0          67.0      57.0\n",
            "980  12358915  20.0    male          77.0      71.0          68.0      90.0\n",
            "981  12236993  20.0  female          94.0      76.0          75.0      80.0\n"
          ]
        }
      ]
    },
    {
      "cell_type": "code",
      "source": [
        "sorted_df = df.sort_values(by=['Age'], ascending=False)\n",
        "print(\"Sorted dataset in descending order:\")\n",
        "print(sorted_df)"
      ],
      "metadata": {
        "colab": {
          "base_uri": "https://localhost:8080/"
        },
        "id": "TI1MV1SCZQII",
        "outputId": "08467f59-c927-408b-f659-4b1de68f7bb3"
      },
      "execution_count": 28,
      "outputs": [
        {
          "output_type": "stream",
          "name": "stdout",
          "text": [
            "Sorted dataset in descending order:\n",
            "     Regn No.   Age  Gender  Data Science  Networks  Architecture  Database\n",
            "386  12112120  25.0    male          67.0      83.0          43.0      79.0\n",
            "928  12288827  25.0  female          92.0      77.0          54.0      72.0\n",
            "922  12279238  25.0    male          82.0      64.0          51.0      49.0\n",
            "144  12166281  25.0    male          94.0      75.0          61.0      18.0\n",
            "146  12119896  25.0    male          93.0      59.0          62.0      30.0\n",
            "..        ...   ...     ...           ...       ...           ...       ...\n",
            "7    12273795   NaN  female          70.0      62.0          39.0      62.0\n",
            "19   12160961   NaN  female          98.0      74.0          40.0      28.0\n",
            "409  12285950   NaN  female          61.0      75.0          31.0      18.0\n",
            "697  12324439   NaN  female          84.0      50.0          43.0      83.0\n",
            "876  12177842   NaN    male          60.0      58.0          36.0      21.0\n",
            "\n",
            "[982 rows x 7 columns]\n"
          ]
        }
      ]
    },
    {
      "cell_type": "code",
      "source": [
        "sorted_df = df.sort_values(by=['Networks'])\n",
        "print(\"Sorted dataset with marks in networks in ascending order:\")\n",
        "print(sorted_df)"
      ],
      "metadata": {
        "colab": {
          "base_uri": "https://localhost:8080/"
        },
        "id": "sfGRoMQdZ8fv",
        "outputId": "8261f6b7-cd21-4c13-ccfe-db32cd0f1e2a"
      },
      "execution_count": 30,
      "outputs": [
        {
          "output_type": "stream",
          "name": "stdout",
          "text": [
            "Sorted dataset with marks in networks in ascending order:\n",
            "     Regn No.   Age  Gender  Data Science  Networks  Architecture  Database\n",
            "539  12213462  20.0  female          69.0      50.0          72.0      35.0\n",
            "57   12226844  20.0    male          66.0      50.0          46.0      39.0\n",
            "586  12334517  24.0    male          76.0      50.0          62.0      35.0\n",
            "777  12253703  25.0  female          69.0      50.0          69.0      26.0\n",
            "500  12132374  19.0    male          73.0      50.0          45.0      54.0\n",
            "..        ...   ...     ...           ...       ...           ...       ...\n",
            "625  12353512  25.0    male          74.0       NaN          37.0      70.0\n",
            "781  12150649  17.0  female          74.0       NaN          52.0      71.0\n",
            "826  12121222  23.0    male          72.0       NaN          36.0      79.0\n",
            "915  12102511  23.0  female          92.0       NaN          35.0      19.0\n",
            "962  12236109  22.0    male          64.0       NaN          45.0      17.0\n",
            "\n",
            "[982 rows x 7 columns]\n"
          ]
        }
      ]
    },
    {
      "cell_type": "code",
      "source": [
        "selected_columns = df[['Regn No.', 'Age', 'Gender']]\n",
        "print(selected_columns)"
      ],
      "metadata": {
        "colab": {
          "base_uri": "https://localhost:8080/"
        },
        "id": "pjJ9FbkZaSF6",
        "outputId": "57e3a1ba-06b2-495f-f6dc-b698342b42ea"
      },
      "execution_count": 31,
      "outputs": [
        {
          "output_type": "stream",
          "name": "stdout",
          "text": [
            "     Regn No.   Age  Gender\n",
            "0    12188341  21.0  female\n",
            "1    12130597  25.0  female\n",
            "2    12377867  17.0  female\n",
            "3    12337339  18.0  female\n",
            "4    12348602  24.0    male\n",
            "..        ...   ...     ...\n",
            "977  12100300  19.0    male\n",
            "978  12177505  18.0    male\n",
            "979  12308767  25.0    male\n",
            "980  12358915  20.0    male\n",
            "981  12236993  20.0  female\n",
            "\n",
            "[982 rows x 3 columns]\n"
          ]
        }
      ]
    },
    {
      "cell_type": "code",
      "source": [
        "max_marks = df.drop(columns=['Regn No.' , 'Age' , 'Gender']).max()\n",
        "min_marks = df.drop(columns=['Regn No.' , 'Age' , 'Gender']).min()\n",
        "print(\"Maximum marks in all subjects:\")\n",
        "print(max_marks)\n",
        "print(\"\\nMinimum marks in all subjects:\")\n",
        "print(min_marks)"
      ],
      "metadata": {
        "colab": {
          "base_uri": "https://localhost:8080/"
        },
        "id": "gkdDe0t8amqf",
        "outputId": "377b7bb4-2c4e-4a53-f974-54a7a686c401"
      },
      "execution_count": 35,
      "outputs": [
        {
          "output_type": "stream",
          "name": "stdout",
          "text": [
            "Maximum marks in all subjects:\n",
            "Data Science    98.0\n",
            "Networks        85.0\n",
            "Architecture    75.0\n",
            "Database        90.0\n",
            "dtype: float64\n",
            "\n",
            "Minimum marks in all subjects:\n",
            "Data Science    60.0\n",
            "Networks        50.0\n",
            "Architecture    30.0\n",
            "Database        10.0\n",
            "dtype: float64\n"
          ]
        }
      ]
    },
    {
      "cell_type": "code",
      "source": [
        "print(df.dtypes)"
      ],
      "metadata": {
        "colab": {
          "base_uri": "https://localhost:8080/"
        },
        "id": "wj6lCnf5d1m0",
        "outputId": "25761eb7-58c5-4654-f048-4dc72da6e495"
      },
      "execution_count": 33,
      "outputs": [
        {
          "output_type": "stream",
          "name": "stdout",
          "text": [
            "Regn No.          int64\n",
            "Age             float64\n",
            "Gender           object\n",
            "Data Science    float64\n",
            "Networks        float64\n",
            "Architecture    float64\n",
            "Database        float64\n",
            "dtype: object\n"
          ]
        }
      ]
    },
    {
      "cell_type": "code",
      "source": [
        "print(\"Number of Genders:\")\n",
        "df['Gender'].nunique()"
      ],
      "metadata": {
        "colab": {
          "base_uri": "https://localhost:8080/"
        },
        "id": "g1CSTV6OfNsk",
        "outputId": "7b880dc6-6255-4b65-d26d-d21d260b48cc"
      },
      "execution_count": 41,
      "outputs": [
        {
          "output_type": "stream",
          "name": "stdout",
          "text": [
            "Number of Genders:\n"
          ]
        },
        {
          "output_type": "execute_result",
          "data": {
            "text/plain": [
              "2"
            ]
          },
          "metadata": {},
          "execution_count": 41
        }
      ]
    },
    {
      "cell_type": "code",
      "source": [
        "print(\"Correlation Matrix:\")\n",
        "print(df.corr())"
      ],
      "metadata": {
        "colab": {
          "base_uri": "https://localhost:8080/"
        },
        "id": "KFN8_NI5fg6y",
        "outputId": "53d75fc7-4921-4077-fdf4-13f04692a8d6"
      },
      "execution_count": 40,
      "outputs": [
        {
          "output_type": "stream",
          "name": "stdout",
          "text": [
            "              Regn No.       Age  Data Science  Networks  Architecture  \\\n",
            "Regn No.      1.000000 -0.034314      0.041920  0.017891     -0.041535   \n",
            "Age          -0.034314  1.000000     -0.040212  0.022087     -0.026230   \n",
            "Data Science  0.041920 -0.040212      1.000000  0.028243     -0.021516   \n",
            "Networks      0.017891  0.022087      0.028243  1.000000      0.011227   \n",
            "Architecture -0.041535 -0.026230     -0.021516  0.011227      1.000000   \n",
            "Database     -0.015033  0.020059     -0.042242  0.016141      0.023007   \n",
            "\n",
            "              Database  \n",
            "Regn No.     -0.015033  \n",
            "Age           0.020059  \n",
            "Data Science -0.042242  \n",
            "Networks      0.016141  \n",
            "Architecture  0.023007  \n",
            "Database      1.000000  \n"
          ]
        },
        {
          "output_type": "stream",
          "name": "stderr",
          "text": [
            "<ipython-input-40-23236a4e6045>:1: FutureWarning: The default value of numeric_only in DataFrame.corr is deprecated. In a future version, it will default to False. Select only valid columns or specify the value of numeric_only to silence this warning.\n",
            "  print(df.corr())\n"
          ]
        }
      ]
    },
    {
      "cell_type": "code",
      "source": [
        "print(\"Number of null values in each column:\")\n",
        "print(df.isnull().sum())"
      ],
      "metadata": {
        "colab": {
          "base_uri": "https://localhost:8080/"
        },
        "id": "_RHWBrgtgr_o",
        "outputId": "75a7e5c8-8baa-4f9f-c271-755aae5ace6c"
      },
      "execution_count": 42,
      "outputs": [
        {
          "output_type": "stream",
          "name": "stdout",
          "text": [
            "Number of null values in each column:\n",
            "Regn No.         0\n",
            "Age              5\n",
            "Gender          10\n",
            "Data Science     8\n",
            "Networks         7\n",
            "Architecture     7\n",
            "Database         4\n",
            "dtype: int64\n"
          ]
        }
      ]
    },
    {
      "cell_type": "code",
      "source": [
        "mean = df.drop(columns=['Regn No.' , 'Gender']).mean()\n",
        "df.fillna(mean, inplace= True)\n",
        "print(df)"
      ],
      "metadata": {
        "colab": {
          "base_uri": "https://localhost:8080/"
        },
        "id": "mL_0wW63g9P0",
        "outputId": "0f2ccaf5-2a95-42dd-c085-ca8672656b92"
      },
      "execution_count": 44,
      "outputs": [
        {
          "output_type": "stream",
          "name": "stdout",
          "text": [
            "     Regn No.   Age  Gender  Data Science  Networks  Architecture  Database\n",
            "0    12188341  21.0  female          67.0      82.0          37.0      25.0\n",
            "1    12130597  25.0  female          76.0      62.0          66.0      35.0\n",
            "2    12377867  17.0  female          86.0      71.0          73.0      58.0\n",
            "3    12337339  18.0  female          80.0      55.0          44.0      86.0\n",
            "4    12348602  24.0    male          65.0      52.0          63.0      40.0\n",
            "..        ...   ...     ...           ...       ...           ...       ...\n",
            "977  12100300  19.0    male          76.0      60.0          36.0      61.0\n",
            "978  12177505  18.0    male          76.0      77.0          73.0      20.0\n",
            "979  12308767  25.0    male          89.0      74.0          67.0      57.0\n",
            "980  12358915  20.0    male          77.0      71.0          68.0      90.0\n",
            "981  12236993  20.0  female          94.0      76.0          75.0      80.0\n",
            "\n",
            "[982 rows x 7 columns]\n"
          ]
        }
      ]
    }
  ]
}